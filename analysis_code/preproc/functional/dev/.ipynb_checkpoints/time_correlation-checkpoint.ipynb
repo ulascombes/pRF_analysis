{
 "cells": [
  {
   "cell_type": "code",
   "execution_count": null,
   "id": "c160aa85-2e3a-416f-8495-44b6d93f50b2",
   "metadata": {
    "tags": []
   },
   "outputs": [],
   "source": [
    "# General imports\n",
    "import os\n",
    "import sys\n",
    "import re\n",
    "import cortex\n",
    "import pandas as pd\n",
    "import numpy as np\n",
    "import glob\n",
    "import matplotlib.pyplot as plt\n",
    "from scipy import stats\n",
    "import nibabel as nb\n",
    "from nilearn.glm.first_level import make_first_level_design_matrix,run_glm\n",
    "# Personals Import \n",
    "sys.path.append(\"{}/../../../utils\".format(os.getcwd()))\n",
    "from cifti_utils import from_170k_to_59k\n",
    "from surface_utils import load_surface, make_surface_image\n",
    "from pycortex_utils import get_rois\n",
    "from maths_utils import linear_regression_surf\n",
    "import plotly.graph_objects as go\n",
    "from plotly.subplots import make_subplots\n",
    "from glm_utils import eventsMatrix, extract_predictions_r2\n",
    "\n",
    "# load settings\n",
    "import json\n",
    "with open('../../../settings.json') as f:\n",
    "    json_s = f.read()\n",
    "    analysis_info = json.loads(json_s)\n",
    "formats = analysis_info['formats']\n",
    "extensions = analysis_info['extensions']\n",
    "alpha = analysis_info['fdr_alpha']\n",
    "tasks = analysis_info['task_glm']\n",
    "rois = analysis_info['rois']\n",
    "TR = analysis_info['TR']\n",
    "TRs= analysis_info['TRs']"
   ]
  },
  {
   "cell_type": "code",
   "execution_count": null,
   "id": "3f9fef15-6bf6-417a-b159-a396f97909e7",
   "metadata": {
    "tags": []
   },
   "outputs": [],
   "source": [
    "main_dir = '/Users/uriel/disks/meso_shared'\n",
    "code_dir = '/Users/uriel/disks/meso_H/projects'\n",
    "project_dir = 'RetinoMaps'\n",
    "subject = 'sub-02'\n",
    "session = 'ses-02'\n",
    "task='SacLoc'"
   ]
  },
  {
   "cell_type": "code",
   "execution_count": null,
   "id": "8f760844-e4ff-442d-ab8a-d4ff7b3b0809",
   "metadata": {
    "tags": []
   },
   "outputs": [],
   "source": [
    "run_1_fn = '{}/{}/derivatives/pp_data/{}/fsnative/func/fmriprep_dct/{}_ses-02_task-{}_run-01_hemi-L_space-fsnative_dct_bold.func.gii'.format(main_dir,project_dir,subject,subject,task)\n",
    "run1_img, run1_data = load_surface(run_1_fn)\n"
   ]
  },
  {
   "cell_type": "code",
   "execution_count": null,
   "id": "216bbed9-00e5-4430-8529-aa023aebeb89",
   "metadata": {
    "tags": []
   },
   "outputs": [],
   "source": [
    "run_2_fn = '{}/{}/derivatives/pp_data/{}/fsnative/func/fmriprep_dct/{}_ses-02_task-{}_run-02_hemi-L_space-fsnative_dct_bold.func.gii'.format(main_dir,project_dir,subject,subject,task)\n",
    "run2_img, run2_data = load_surface(run_2_fn)\n"
   ]
  },
  {
   "cell_type": "code",
   "execution_count": null,
   "id": "5bbda315-748c-4e4d-9892-27eac146a00e",
   "metadata": {
    "tags": []
   },
   "outputs": [],
   "source": [
    "event_dir = '{}/{}/{}/{}/func/'.format(main_dir,project_dir,subject,session)\n",
    "event_file = glob.glob(\"{}/{}_{}_task-{}_run-*_events.tsv\".format(event_dir,subject,session,task))\n",
    "event = pd.read_table(event_file[0])\n",
    "events = eventsMatrix(design_file=event_file[0], task=task, tr=TR)"
   ]
  },
  {
   "cell_type": "code",
   "execution_count": null,
   "id": "985ccd23-c073-4899-baea-71c703cef10e",
   "metadata": {
    "tags": []
   },
   "outputs": [],
   "source": [
    "task_periode = np.where(event['trial_type'] == 1, 1, 0)\n",
    "task_periode = task_periode.reshape(-1, 1)"
   ]
  },
  {
   "cell_type": "code",
   "execution_count": null,
   "id": "0da58be4-df81-4382-9be6-f19b13a1c30f",
   "metadata": {
    "tags": []
   },
   "outputs": [],
   "source": [
    "rois_dict = get_rois(subject=subject, return_concat_hemis=False, return_hemi='hemi-L', rois=rois, mask=True, atlas_name=None, surf_size=None)"
   ]
  },
  {
   "cell_type": "code",
   "execution_count": null,
   "id": "20c3e298-d9de-45b8-a8fd-8a44e75018ea",
   "metadata": {
    "tags": []
   },
   "outputs": [],
   "source": [
    "run1_V1 = run1_data[:,rois_dict['V1']]\n",
    "run2_V1 = run2_data[:,rois_dict['V1']]"
   ]
  },
  {
   "cell_type": "code",
   "execution_count": null,
   "id": "614db924-218f-46f2-9aa7-09515548a29c",
   "metadata": {
    "tags": []
   },
   "outputs": [],
   "source": [
    "run1_data"
   ]
  },
  {
   "cell_type": "code",
   "execution_count": 8,
   "id": "6a45f36b-4708-4508-ac17-cc6b5b75aedd",
   "metadata": {
    "tags": []
   },
   "outputs": [],
   "source": [
    "\n",
    "\n",
    "# fig = make_subplots(rows=3, cols=1,vertical_spacing=0)\n",
    "\n",
    "# # Ajout d'une heatmap au premier subplot\n",
    "# fig.add_trace(\n",
    "#     go.Heatmap(\n",
    "#         z=run1_V1.T,  # Transposée pour ajuster les axes correctement\n",
    "#         x=list(range(run1_V1.shape[0])),  # Axe des X : Temps\n",
    "#         y=list(range(run1_V1.shape[1])),  # Axe des Y : Vertex\n",
    "#         colorscale='Viridis'\n",
    "#     ),\n",
    "#     row=1, col=1\n",
    "# )\n",
    "# fig.add_trace(\n",
    "#     go.Heatmap(\n",
    "#         z=run1_V1.T,  # Transposée pour ajuster les axes correctement\n",
    "#         x=list(range(run2_V1.shape[0])),  # Axe des X : Temps\n",
    "#         y=list(range(run2_V1.shape[1])),  # Axe des Y : Vertex\n",
    "#         colorscale='Viridis'\n",
    "#     ),\n",
    "#     row=2, col=1\n",
    "# )\n",
    "# fig.add_trace(\n",
    "#     go.Heatmap(\n",
    "#         z=task_periode.T,  # Transposée pour ajuster les axes correctement\n",
    "#         x=list(range(task_periode.shape[0])),  # Axe des X : Temps\n",
    "#         y=list(range(task_periode.shape[1])),  # Axe des Y : Vertex\n",
    "#         colorscale='hot',\n",
    "#         showscale=False \n",
    "#     ),\n",
    "#     row=3, col=1\n",
    "# )\n",
    "\n",
    "\n",
    "# # fig.update_yaxes(showticklabels=False, showgrid=False, zeroline=False)\n",
    "# fig.update_xaxes(showticklabels=False, showgrid=False, zeroline=False)\n",
    "# # fig.update_layout(title='Heatmap des valeurs du signal')\n",
    "\n",
    "# # Affichage de la figure\n",
    "# fig.show()"
   ]
  },
  {
   "cell_type": "code",
   "execution_count": 7,
   "id": "1074c267-3b13-4068-b475-27128fca2b3c",
   "metadata": {
    "tags": []
   },
   "outputs": [],
   "source": [
    "# import plotly.graph_objects as go\n",
    "# from plotly.subplots import make_subplots\n",
    "\n",
    "# fig = make_subplots(rows=3, cols=1, vertical_spacing=0)\n",
    "\n",
    "# # Ajout des heatmaps\n",
    "# fig.add_trace(\n",
    "#     go.Heatmap(\n",
    "#         z=run1_V1.T,\n",
    "#         x=list(range(run1_V1.shape[0])),\n",
    "#         y=list(range(run1_V1.shape[1])),\n",
    "#         colorscale='Viridis'\n",
    "#     ),\n",
    "#     row=1, col=1\n",
    "# )\n",
    "# fig.add_trace(\n",
    "#     go.Heatmap(\n",
    "#         z=run2_V1.T,\n",
    "#         x=list(range(run2_V1.shape[0])),\n",
    "#         y=list(range(run2_V1.shape[1])),\n",
    "#         colorscale='Viridis'\n",
    "#     ),\n",
    "#     row=2, col=1\n",
    "# )\n",
    "# # fig.add_trace(\n",
    "# #     go.Heatmap(\n",
    "# #         z=task_periode.T,\n",
    "# #         x=list(range(task_periode.shape[0])),\n",
    "# #         y=list(range(task_periode.shape[1])),\n",
    "# #         colorscale='hot',\n",
    "# #         showscale=False \n",
    "# #     ),\n",
    "# #     row=3, col=1\n",
    "# # )\n",
    "\n",
    "# # Ajout de la barre rouge\n",
    "# x_values = [i for i, value in enumerate(task_periode) if value == 1]\n",
    "# y_values = [1] * len(x_values)  # Pour placer la barre au bas de la figure\n",
    "# fig.add_trace(\n",
    "#     go.Scatter(\n",
    "#         x=x_values,\n",
    "#         y=y_values,\n",
    "#         mode='markers',\n",
    "#         marker=dict(color='red', symbol='line-ns-open'),\n",
    "#         showlegend=False\n",
    "#     ),\n",
    "#     row=3, col=1\n",
    "# )\n",
    "\n",
    "# # Mise à jour des axes\n",
    "# fig.update_xaxes(showticklabels=False, showgrid=False, zeroline=False)\n",
    "\n",
    "# # Affichage de la figure\n",
    "# fig.show()\n"
   ]
  },
  {
   "cell_type": "code",
   "execution_count": 6,
   "id": "a38bf7b5-047c-477a-ab22-bab0b717b8f6",
   "metadata": {
    "tags": []
   },
   "outputs": [],
   "source": [
    "# import plotly.graph_objects as go\n",
    "# import numpy as np\n",
    "\n",
    "# # Supposons que run1_data est déjà défini et contient 208 valeurs dans la colonne d'index 1\n",
    "# # Si vous avez des valeurs spécifiques pour l'axe des x (comme des timestamps), utilisez-les ici. Sinon, générez une séquence.\n",
    "# x_values = np.arange(1, len(run1_data[:,1]) + 1)  # Génère un array de 1 à 208\n",
    "\n",
    "# fig = go.Figure()\n",
    "\n",
    "# fig.add_trace(go.Heatmap(\n",
    "#     x=x_values,\n",
    "#     y=[run1_data[]]\n",
    "#     z=[run1_data[:,vert]],  \n",
    "#     colorscale='Viridis',\n",
    "#     showscale=True  \n",
    "# ))\n",
    "\n",
    "# # Pour supprimer l'axe des y, vous pouvez le configurer pour qu'il ne s'affiche pas\n",
    "# fig.update_yaxes(showticklabels=False, showgrid=False, zeroline=False)\n",
    "\n",
    "# # Ajustements optionnels pour améliorer l'apparence ou la mise à l'échelle de l'axe des x\n",
    "# fig.update_xaxes(ticks=\"outside\", tickson=\"boundaries\", ticklen=5)\n",
    "\n",
    "# fig.show()\n"
   ]
  },
  {
   "cell_type": "code",
   "execution_count": 5,
   "id": "789c1570-1a55-48a3-a3b9-d35a3db8aea0",
   "metadata": {
    "tags": []
   },
   "outputs": [],
   "source": [
    "# # plot best voxel for left hemisphere\n",
    "# num_vert = 1\n",
    "\n",
    "# fig3 = go.Figure()\n",
    "# # plot data time series\n",
    "# fig3.add_trace(go.Scatter(y=run1_data[:,num_vert],\n",
    "#                          name='data', \n",
    "#                          mode='markers', \n",
    "#                           line=dict(color='black') \n",
    "#                          ))\n",
    "\n",
    "\n",
    "\n",
    "# fig3.update_layout(template='simple_white', \n",
    "#                    # title = '{} vertex time series for {} noise model'.format(num_vert,noise_model_2), \n",
    "#                    xaxis_title = 'TR (sec)', \n",
    "#                    yaxis_title = 'z-score', \n",
    "#                    showlegend= False,\n",
    "#                    height=350, \n",
    "#                    width=600 )\n",
    "\n",
    "# fig3.update_xaxes(range=[0,run1_data.shape[0]])\n",
    "\n",
    "# fig3.update_yaxes(range=[-4,4])\n",
    "\n",
    "# fig3.show()"
   ]
  },
  {
   "cell_type": "code",
   "execution_count": 4,
   "id": "2557a63f-8fc8-45d1-8925-b467f5858874",
   "metadata": {
    "tags": []
   },
   "outputs": [],
   "source": [
    "# import plotly.graph_objects as go\n",
    "# import numpy as np\n",
    "\n",
    "# # Exemple de signal BOLD pour un seul emplacement sur 100 points dans le temps\n",
    "# np.random.seed(0)\n",
    "# temps = np.arange(100)  # Simule le temps ou les indices temporels\n",
    "# signal = np.random.rand(100)  # Simule le signal BOLD\n",
    "\n",
    "# fig = go.Figure()\n",
    "\n",
    "# # Création d'une heatmap où chaque ligne représente le signal au fil du temps\n",
    "# # Comme nous avons un seul signal, nous dupliquons le signal dans une dimension supplémentaire pour l'affichage\n",
    "# fig.add_trace(go.Heatmap(\n",
    "#     z=signal,  # Duplication du signal pour l'affichage, ajustez selon le besoin\n",
    "#     colorscale='Viridis',\n",
    "#     showscale=True\n",
    "# ))\n",
    "\n",
    "# # Personnalisation des axes\n",
    "# fig.update_layout(\n",
    "#     title=\"Évolution du signal BOLD au fil du temps\",\n",
    "#     xaxis_title=\"Temps\",\n",
    "#     yaxis_title=\"Répétitions pour visualisation\",\n",
    "# )\n",
    "\n",
    "# fig.show()\n"
   ]
  },
  {
   "cell_type": "code",
   "execution_count": null,
   "id": "65a8355c-9046-4128-b55f-4e5e92ae4934",
   "metadata": {
    "tags": []
   },
   "outputs": [],
   "source": [
    "signal.shape"
   ]
  },
  {
   "cell_type": "code",
   "execution_count": null,
   "id": "cb3e8295-7633-4fcb-9d0b-2ef9da742e4b",
   "metadata": {},
   "outputs": [],
   "source": []
  }
 ],
 "metadata": {
  "kernelspec": {
   "display_name": "prf_env",
   "language": "python",
   "name": "prf_env"
  },
  "language_info": {
   "codemirror_mode": {
    "name": "ipython",
    "version": 3
   },
   "file_extension": ".py",
   "mimetype": "text/x-python",
   "name": "python",
   "nbconvert_exporter": "python",
   "pygments_lexer": "ipython3",
   "version": "3.11.7"
  }
 },
 "nbformat": 4,
 "nbformat_minor": 5
}
