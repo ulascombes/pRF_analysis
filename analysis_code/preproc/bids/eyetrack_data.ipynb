{
 "cells": [
  {
   "cell_type": "code",
   "execution_count": null,
   "id": "7f965722-70dd-4a4b-b4cd-b090abdaa4c7",
   "metadata": {},
   "outputs": [],
   "source": []
  },
  {
   "cell_type": "markdown",
   "id": "8adb3a36-8068-4da0-b607-90d1992dc427",
   "metadata": {
    "editable": true,
    "slideshow": {
     "slide_type": ""
    },
    "tags": []
   },
   "source": [
    "# Change eyetracking files to match BEP020 rules\n",
    "\n",
    "### TODO\n",
    "- [x] manually delete .asc files and be sure they all are named _eyeData \n",
    "- [x] move _eyeData.edf data to /sourcedata\n",
    "- [x] rename them to _eyetrack.edf\n",
    "- [ ] use converter to get json files and get data in right tsv.gz format\n",
    "- [ ] place them at the right place\n",
    "- [ ] write .gitignore to ignore these files and no longer the previous ones"
   ]
  },
  {
   "cell_type": "markdown",
   "id": "ad8eb93e-691b-47bd-94ec-2c29ac1b1704",
   "metadata": {},
   "source": [
    "### Initial settings"
   ]
  },
  {
   "cell_type": "code",
   "execution_count": 1,
   "id": "65f24e30-b5b8-4a00-a63b-d15d5fd66200",
   "metadata": {},
   "outputs": [],
   "source": [
    "# imports modules\n",
    "import sys\n",
    "import os\n",
    "from bids import BIDSLayout\n",
    "from bids.layout import parse_file_entities\n",
    "\n",
    "# inputs\n",
    "home_dir = os.path.expanduser(\"~\")\n",
    "os.chdir(home_dir) \n",
    "main_dir = '{}/disks/meso_S/data'.format(home_dir)\n",
    "project_dir = 'RetinoMaps'"
   ]
  },
  {
   "cell_type": "code",
   "execution_count": 2,
   "id": "ad140edb-fb61-4491-89e3-489e8016a148",
   "metadata": {
    "editable": true,
    "slideshow": {
     "slide_type": ""
    },
    "tags": []
   },
   "outputs": [],
   "source": [
    "# Get bids stucture\n",
    "layout = BIDSLayout('{}/{}'.format(main_dir,project_dir))"
   ]
  },
  {
   "cell_type": "code",
   "execution_count": null,
   "id": "b13cfc06-a291-40ad-9311-afaef9d26596",
   "metadata": {
    "editable": true,
    "slideshow": {
     "slide_type": ""
    },
    "tags": []
   },
   "outputs": [],
   "source": [
    "# Get .edf file in main bids and move it renamed to sourcedata\n",
    "for subject_id in layout.get(return_type='id',target='subject'):\n",
    "    nifti_files = layout.get(subject=subject_id, extension='nii.gz', suffix='bold', return_type='filename')\n",
    "    \n",
    "    for nifti_file in nifti_files:\n",
    "        edf_file = '{}_eyeData.edf'.format(nifti_file[:-12])\n",
    "        entity_dict = parse_file_entities(edf_file)\n",
    "\n",
    "        # create sourcedat folder\n",
    "        sourcedata_folder = '{}/{}/sourcedata/sub-{}/ses-{}/{}'.format(main_dir, \n",
    "                                                                       project_dir,\n",
    "                                                                       entity_dict['subject'], \n",
    "                                                                       entity_dict['session'], \n",
    "                                                                       entity_dict['datatype'])\n",
    "        os.makedirs('{}'.format(sourcedata_folder), exist_ok=True)\n",
    "\n",
    "        # rename file from _eyeData to _eyetrack\n",
    "        edf_file_basename_rename = 'sub-{}_ses-{}_task-{}_run-{}_eyetrack{}'.format(\n",
    "            entity_dict['subject'], entity_dict['session'], entity_dict['task'],\n",
    "            entity_dict['run'],entity_dict['extension'])\n",
    "        \n",
    "        os.system('rsync -avuz {} {}/{}'.format(edf_file, sourcedata_folder, edf_file_basename_rename))"
   ]
  },
  {
   "cell_type": "code",
   "execution_count": 3,
   "id": "47f32a44-a207-4542-81be-aab42208bacd",
   "metadata": {
    "editable": true,
    "slideshow": {
     "slide_type": ""
    },
    "tags": []
   },
   "outputs": [
    {
     "ename": "NameError",
     "evalue": "name 'entity_dict' is not defined",
     "output_type": "error",
     "traceback": [
      "\u001b[0;31m---------------------------------------------------------------------------\u001b[0m",
      "\u001b[0;31mNameError\u001b[0m                                 Traceback (most recent call last)",
      "Input \u001b[0;32mIn [3]\u001b[0m, in \u001b[0;36m<cell line: 1>\u001b[0;34m()\u001b[0m\n\u001b[0;32m----> 1\u001b[0m edf_file_basename_rename \u001b[38;5;241m=\u001b[39m \u001b[38;5;124m'\u001b[39m\u001b[38;5;124msub-\u001b[39m\u001b[38;5;132;01m{}\u001b[39;00m\u001b[38;5;124m_ses-\u001b[39m\u001b[38;5;132;01m{}\u001b[39;00m\u001b[38;5;124m_task-\u001b[39m\u001b[38;5;132;01m{}\u001b[39;00m\u001b[38;5;124m_eyetrack\u001b[39m\u001b[38;5;132;01m{}\u001b[39;00m\u001b[38;5;124m'\u001b[39m\u001b[38;5;241m.\u001b[39mformat(\u001b[43mentity_dict\u001b[49m[\u001b[38;5;124m'\u001b[39m\u001b[38;5;124msubject\u001b[39m\u001b[38;5;124m'\u001b[39m], \n\u001b[1;32m      2\u001b[0m                                                                               entity_dict[\u001b[38;5;124m'\u001b[39m\u001b[38;5;124msession\u001b[39m\u001b[38;5;124m'\u001b[39m], \n\u001b[1;32m      3\u001b[0m                                                                               entity_dict[\u001b[38;5;124m'\u001b[39m\u001b[38;5;124mtask\u001b[39m\u001b[38;5;124m'\u001b[39m],\n\u001b[1;32m      4\u001b[0m                                                                               entity_dict[\u001b[38;5;124m'\u001b[39m\u001b[38;5;124mextension\u001b[39m\u001b[38;5;124m'\u001b[39m]\n\u001b[1;32m      5\u001b[0m                                                                              )\n",
      "\u001b[0;31mNameError\u001b[0m: name 'entity_dict' is not defined"
     ]
    }
   ],
   "source": [
    "edf_file_basename_rename = 'sub-{}_ses-{}_task-{}_eyetrack{}'.format(entity_dict['subject'], \n",
    "                                                                              entity_dict['session'], \n",
    "                                                                              entity_dict['task'],\n",
    "                                                                              entity_dict['extension']\n",
    "                                                                             )"
   ]
  },
  {
   "cell_type": "code",
   "execution_count": null,
   "id": "3e7e2c2b-458d-4add-81ed-ed5fb7a7833d",
   "metadata": {
    "editable": true,
    "slideshow": {
     "slide_type": ""
    },
    "tags": []
   },
   "outputs": [],
   "source": [
    "eye2bids --input_file disks/meso_S/data/RetinoMaps/sourcedata/sub-01/ses-01/func/sub-01_ses-01_task-rest_run-01_eyetrack.edf --output_dir disks/meso_S/data/RetinoMaps/sourcedata/ --metadata_file disks/meso_S/data/RetinoMaps/sourcedata/metadata_eyetrack.yml "
   ]
  },
  {
   "cell_type": "code",
   "execution_count": null,
   "id": "fc3279ad-eb9a-4901-bb58-fdb6ac2cc7f2",
   "metadata": {},
   "outputs": [],
   "source": []
  }
 ],
 "metadata": {
  "kernelspec": {
   "display_name": "mszinte",
   "language": "python",
   "name": "mszinte"
  },
  "language_info": {
   "codemirror_mode": {
    "name": "ipython",
    "version": 3
   },
   "file_extension": ".py",
   "mimetype": "text/x-python",
   "name": "python",
   "nbconvert_exporter": "python",
   "pygments_lexer": "ipython3",
   "version": "3.9.13"
  }
 },
 "nbformat": 4,
 "nbformat_minor": 5
}
