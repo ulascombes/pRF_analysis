{
 "cells": [
  {
   "cell_type": "markdown",
   "id": "3f882443-6e90-41e8-8b21-15180ba5d485",
   "metadata": {},
   "source": [
    "The goal of this notebook is to generate colormap to be use with pycortex"
   ]
  },
  {
   "cell_type": "code",
   "execution_count": 1,
   "id": "b1951a9f-8f0b-4fa0-a852-aaf94f51681c",
   "metadata": {
    "tags": []
   },
   "outputs": [],
   "source": [
    "from PIL import Image\n",
    "import plotly.express as px\n",
    "import matplotlib.pyplot as plt\n",
    "import plotly.graph_objects as go\n",
    "\n",
    "main_dir = '/Users/uriel/disks/meso_shared'\n",
    "project_dir = 'RetinoMaps'\n",
    "cortex_dir = \"{}/{}/derivatives/pp_data/cortex/colormaps/\".format(main_dir, project_dir)\n"
   ]
  },
  {
   "cell_type": "code",
   "execution_count": 8,
   "id": "2f11739c-e679-4d77-bb2b-1c3ea8808592",
   "metadata": {
    "tags": []
   },
   "outputs": [],
   "source": [
    "# colors you want \n",
    "\n",
    "# # Rois colors \n",
    "# sunset_colors = px.colors.sequential.Sunset[:4)\n",
    "# rainbow_colors = px.colors.sequential.Rainbow[:)\n",
    "# colors = [tuple(map(int, color.strip('rgb()').split(','))) for color in sunset_colors + rainbow_colors)\n",
    "# colors.pop()\n",
    "# colors.insert(0, (255, 255, 255))\n",
    "\n",
    "# # Glm colors \n",
    "cmap = plt.get_cmap('tab10').reversed()\n",
    "# colors = [cmap(i) for i in range(cmap.N)]\n",
    "# colors = colors[2:]\n",
    "# colors = [(int(color[0] * 255), int(color[1] * 255), int(color[2] * 255)) for color in colors)\n",
    "# colors[0] = (255,255,255)\n",
    "\n",
    "# #  Make the image\n",
    "# image = Image.new(\"RGB\", (len(colors), 1))\n",
    "\n",
    "# #  put the colors on the image\n",
    "# for i in range(len(colors)):\n",
    "#     image.putpixel((i, 0), colors[i])\n",
    "\n",
    "# # # Export the colormap \n",
    "# color_map_name = 'rois_colors'\n",
    "# # color_map_name = 'stats_colors'\n",
    "# # image.save('{}/{}.png'.format(cortex_dir,color_map_name))\n"
   ]
  },
  {
   "cell_type": "code",
   "execution_count": 22,
   "id": "1b804910-0b9b-4f45-94b3-290617aefaa7",
   "metadata": {},
   "outputs": [
    {
     "data": {
      "text/plain": [
       "((12, 0), (255, 111, 0))"
      ]
     },
     "execution_count": 22,
     "metadata": {},
     "output_type": "execute_result"
    }
   ],
   "source": [
    "(i, 0), colors[i)"
   ]
  },
  {
   "cell_type": "code",
   "execution_count": 9,
   "id": "6cb26765-7454-4c4e-abef-a1bbb7965824",
   "metadata": {
    "tags": []
   },
   "outputs": [
    {
     "data": {
      "image/png": "[encoded data removed]",
      "text/html": [
       "<div style=\"vertical-align: middle;\"><strong>tab10_r</strong> </div><div class=\"cmap\"><img alt=\"tab10_r colormap\" title=\"tab10_r\" style=\"border: 1px solid #555;\" src=\"data:image/png;base64,iVBORw0KGgoAAAANSUhEUgAAAgAAAABACAYAAABsv8+/AAAAFnRFWHRUaXRsZQB0YWIxMF9yIGNvbG9ybWFwwT+cjQAAABx0RVh0RGVzY3JpcHRpb24AdGFiMTBfciBjb2xvcm1hcGYRLfQAAAAwdEVYdEF1dGhvcgBNYXRwbG90bGliIHYzLjguMywgaHR0cHM6Ly9tYXRwbG90bGliLm9yZ6qeThwAAAAydEVYdFNvZnR3YXJlAE1hdHBsb3RsaWIgdjMuOC4zLCBodHRwczovL21hdHBsb3RsaWIub3JnhDjROwAAAXtJREFUeJzt1rEtBHAcQGFEoVVpzcIIEp1Op7vOCDfISSwhwgAKA1xiiuvOEv/4Jd73TfDKd3r19nU8+Ud2x7vphGU+Px6mE5Z5PNxOJyzzut9OJyxzcbmZTljm5v1pOmGZ++fz6YRlvvc/0wnLXB9ephOWOpsOAAD+ngEAgCADAABBBgAAggwAAAQZAAAIMgAAEGQAACDIAABAkAEAgCADAABBBgAAggwAAAQZAAAIMgAAEGQAACDIAABAkAEAgCADAABBBgAAggwAAAQZAAAIMgAAEGQAACDIAABAkAEAgCADAABBBgAAggwAAAQZAAAIMgAAEGQAACDIAABAkAEAgCADAABBBgAAggwAAAQZAAAIMgAAEGQAACDIAABAkAEAgCADAABBBgAAggwAAAQZAAAIMgAAEGQAACDIAABAkAEAgCADAABBBgAAggwAAAQZAAAIMgAAEGQAACDIAABAkAEAgCADAABBBgAAggwAAAQZAAAIMgAAEPQLhHMRyXRw23cAAAAASUVORK5CYII=\"></div><div style=\"vertical-align: middle; max-width: 514px; display: flex; justify-content: space-between;\"><div style=\"float: left;\"><div title=\"#17becfff\" style=\"display: inline-block; width: 1em; height: 1em; margin: 0; vertical-align: middle; border: 1px solid #555; background-color: #17becfff;\"></div> under</div><div style=\"margin: 0 auto; display: inline-block;\">bad <div title=\"#00000000\" style=\"display: inline-block; width: 1em; height: 1em; margin: 0; vertical-align: middle; border: 1px solid #555; background-color: #00000000;\"></div></div><div style=\"float: right;\">over <div title=\"#1f77b4ff\" style=\"display: inline-block; width: 1em; height: 1em; margin: 0; vertical-align: middle; border: 1px solid #555; background-color: #1f77b4ff;\"></div></div>"
      ],
      "text/plain": [
       "<matplotlib.colors.ListedColormap at 0x103bfd1d0>"
      ]
     },
     "execution_count": 9,
     "metadata": {},
     "output_type": "execute_result"
    }
   ],
   "source": [
    "cmap"
   ]
  },
  {
   "cell_type": "code",
   "execution_count": 16,
   "id": "7d74cbeb-7471-479b-9314-24053a18c84e",
   "metadata": {},
   "outputs": [
    {
     "ename": "NameError",
     "evalue": "name 'main_dir' is not defined",
     "output_type": "error",
     "traceback": [
      "\u001b[0;31m---------------------------------------------------------------------------\u001b[0m",
      "\u001b[0;31mNameError\u001b[0m                                 Traceback (most recent call last)",
      "Input \u001b[0;32mIn [16]\u001b[0m, in \u001b[0;36m<cell line: 1>\u001b[0;34m()\u001b[0m\n\u001b[0;32m----> 1\u001b[0m cortex_colormaps_dir \u001b[38;5;241m=\u001b[39m \u001b[38;5;124m\"\u001b[39m\u001b[38;5;132;01m{}\u001b[39;00m\u001b[38;5;124m/\u001b[39m\u001b[38;5;132;01m{}\u001b[39;00m\u001b[38;5;124m/derivatives/pp_data/cortex/colormaps/\u001b[39m\u001b[38;5;124m\"\u001b[39m\u001b[38;5;241m.\u001b[39mformat(\u001b[43mmain_dir\u001b[49m, project_dir)\n\u001b[1;32m      2\u001b[0m \u001b[38;5;66;03m# version with dictionnaire\u001b[39;00m\n\u001b[1;32m      3\u001b[0m colormap_name \u001b[38;5;241m=\u001b[39m \u001b[38;5;124m'\u001b[39m\u001b[38;5;124mrois_colors\u001b[39m\u001b[38;5;124m'\u001b[39m\n",
      "\u001b[0;31mNameError\u001b[0m: name 'main_dir' is not defined"
     ]
    }
   ],
   "source": [
    "cortex_colormaps_dir = \"{}/{}/derivatives/pp_data/cortex/colormaps/\".format(main_dir, project_dir)\n",
    "# version with dictionnaire\n",
    "colormap_name = 'rois_colors'\n",
    "cmap_dict = {'n/a': (255, 255, 255), \n",
    "                'V1': (243, 231, 155),\n",
    "                'V2': (250, 196, 132),\n",
    "                'V3': (248, 160, 126),\n",
    "                'V3AB': (235, 127, 134),\n",
    "                'LO': (150, 0, 90), \n",
    "                'VO': (0, 0, 200),\n",
    "                'hMT+': (0, 25, 255),\n",
    "                'iIPS': (0, 152, 255),\n",
    "                'sIPS': (44, 255, 150),\n",
    "                'iPCS': (151, 255, 0),\n",
    "                'sPCS': (255, 234, 0),\n",
    "                'mPCS': (255, 111, 0)}\n",
    "\n",
    "image = Image.new(\"RGB\", (len(roi_colormap), 1))\n",
    "i = 0\n",
    "for roi, color in zip(roi_colormap.keys(), roi_colormap.values()):\n",
    "    print(roi, color)\n",
    "    image.putpixel((i, 0), color)\n",
    "    i +=1\n",
    "# image.save('{}/{}.png'.format(cortex_colormaps_dir, colormap_name))"
   ]
  },
  {
   "cell_type": "code",
   "execution_count": 12,
   "id": "d440bd85-5fc1-4fbe-800e-6c067ea6c966",
   "metadata": {
    "tags": []
   },
   "outputs": [
    {
     "ename": "SyntaxError",
     "evalue": "closing parenthesis ')' does not match opening parenthesis '[' (2792232924.py, line 5)",
     "output_type": "error",
     "traceback": [
      "\u001b[0;36m  Cell \u001b[0;32mIn[12], line 5\u001b[0;36m\u001b[0m\n\u001b[0;31m    colors = [(int(color[0] * 255), int(color[1] * 255), int(color[2] * 255)) for color in colors)\u001b[0m\n\u001b[0m                                                                                                 ^\u001b[0m\n\u001b[0;31mSyntaxError\u001b[0m\u001b[0;31m:\u001b[0m closing parenthesis ')' does not match opening parenthesis '['\n"
     ]
    }
   ],
   "source": [
    "# # Glm colors \n",
    "cmap = plt.get_cmap('tab10').reversed()\n",
    "colors = [cmap(i) for i in range(cmap.N)]\n",
    "colors = colors[2:]\n",
    "colors = [(int(color[0] * 255), int(color[1] * 255), int(color[2] * 255)) for color in colors)]\n",
    "colors[0] = (255,255,255)"
   ]
  },
  {
   "cell_type": "code",
   "execution_count": 11,
   "id": "a53b7bdd-1521-4281-a47e-fc35e9841b18",
   "metadata": {
    "tags": []
   },
   "outputs": [
    {
     "ename": "NameError",
     "evalue": "name 'colors_rgb' is not defined",
     "output_type": "error",
     "traceback": [
      "\u001b[0;31m---------------------------------------------------------------------------\u001b[0m",
      "\u001b[0;31mNameError\u001b[0m                                 Traceback (most recent call last)",
      "Cell \u001b[0;32mIn[11], line 7\u001b[0m\n\u001b[1;32m      4\u001b[0m plt\u001b[38;5;241m.\u001b[39mfigure(figsize\u001b[38;5;241m=\u001b[39m(\u001b[38;5;241m2\u001b[39m, \u001b[38;5;241m8\u001b[39m))\n\u001b[1;32m      6\u001b[0m \u001b[38;5;66;03m# Affichage des couleurs sans bordures\u001b[39;00m\n\u001b[0;32m----> 7\u001b[0m \u001b[38;5;28;01mfor\u001b[39;00m i, (color, name) \u001b[38;5;129;01min\u001b[39;00m \u001b[38;5;28menumerate\u001b[39m(\u001b[38;5;28mzip\u001b[39m(colors_rgb, code_name)):\n\u001b[1;32m      8\u001b[0m     plt\u001b[38;5;241m.\u001b[39mfill_between([\u001b[38;5;241m0\u001b[39m, \u001b[38;5;241m1\u001b[39m], i, i\u001b[38;5;241m+\u001b[39m\u001b[38;5;241m1\u001b[39m, color\u001b[38;5;241m=\u001b[39mcolor, linewidth\u001b[38;5;241m=\u001b[39m\u001b[38;5;241m0\u001b[39m)\n\u001b[1;32m      9\u001b[0m     plt\u001b[38;5;241m.\u001b[39mtext(\u001b[38;5;241m1.2\u001b[39m, i\u001b[38;5;241m+\u001b[39m\u001b[38;5;241m0.5\u001b[39m, name, va\u001b[38;5;241m=\u001b[39m\u001b[38;5;124m'\u001b[39m\u001b[38;5;124mcenter\u001b[39m\u001b[38;5;124m'\u001b[39m)\n",
      "\u001b[0;31mNameError\u001b[0m: name 'colors_rgb' is not defined"
     ]
    },
    {
     "data": {
      "text/plain": [
       "<Figure size 200x800 with 0 Axes>"
      ]
     },
     "metadata": {},
     "output_type": "display_data"
    }
   ],
   "source": [
    "code_name = ['non_responding', 'all', 'pursuit', 'saccade', 'pursuit_and_saccade', 'vision', 'vision_and_pursuit', 'vision_and_saccade']\n",
    "\n",
    "# Création d'une figure\n",
    "plt.figure(figsize=(2, 8))\n",
    "\n",
    "# Affichage des couleurs sans bordures\n",
    "for i, (color, name) in enumerate(zip(colors_rgb, code_name)):\n",
    "    plt.fill_between([0, 1], i, i+1, color=color, linewidth=0)\n",
    "    plt.text(1.2, i+0.5, name, va='center')\n",
    "\n",
    "# Configuration de l'axe\n",
    "plt.axis('off')\n",
    "\n",
    "# Affichage de la figure\n",
    "plt.savefig('/Users/uriel/Downloads/color_map.pdf')\n",
    "plt.show()\n",
    "\n"
   ]
  },
  {
   "cell_type": "code",
   "execution_count": 13,
   "id": "7e3608fc-85ac-4ca5-91f8-80c86aafd606",
   "metadata": {
    "tags": []
   },
   "outputs": [
    {
     "name": "stdout",
     "output_type": "stream",
     "text": [
      "[(255, 255, 255), (227, 119, 194), (140, 86, 75), (148, 103, 189), (214, 39, 40), (44, 160, 44), (255, 127, 14), (31, 119, 180)]\n"
     ]
    }
   ],
   "source": [
    "import matplotlib.pyplot as plt\n",
    "\n",
    "cmap = plt.get_cmap('tab10').reversed()\n",
    "colors = [cmap(i) for i in range(cmap.N)]\n",
    "colors = colors[2:]\n",
    "colors = [(int(color[0] * 255), int(color[1] * 255), int(color[2] * 255)) for color in colors]\n",
    "colors[0] = (255,255,255)\n",
    "\n",
    "print(colors)\n"
   ]
  },
  {
   "cell_type": "code",
   "execution_count": 17,
   "id": "caa03a6f-ed0d-498e-8f9f-c1abae98b813",
   "metadata": {
    "tags": []
   },
   "outputs": [
    {
     "data": {
      "image/png": "[encoded data removed]",
      "text/plain": [
       "<Figure size 640x480 with 1 Axes>"
      ]
     },
     "metadata": {},
     "output_type": "display_data"
    }
   ],
   "source": [
    "import matplotlib.pyplot as plt\n",
    "\n",
    "# Liste des couleurs\n",
    "colors = [(255, 255, 255), (227, 119, 194), (140, 86, 75), (148, 103, 189), (214, 39, 40), (44, 160, 44), (255, 127, 14), (31, 119, 180)]\n",
    "\n",
    "# Création du graphique\n",
    "fig, ax = plt.subplots()\n",
    "\n",
    "# Parcourir chaque couleur et dessiner un carré avec cette couleur\n",
    "for i, color in enumerate(colors):\n",
    "    ax.add_patch(plt.Rectangle((i, 0), 1, 1, color=[c/255 for c in color]))\n",
    "\n",
    "# Définir les limites de l'axe et masquer les graduations\n",
    "ax.set_xlim(0, len(colors))\n",
    "ax.set_ylim(0, 1)\n",
    "ax.axis('off')\n",
    "\n",
    "# Afficher le graphique\n",
    "plt.show()\n"
   ]
  },
  {
   "cell_type": "code",
   "execution_count": null,
   "id": "ca0bb3a2-44bf-4873-a375-1b052e936173",
   "metadata": {},
   "outputs": [],
   "source": []
  }
 ],
 "metadata": {
  "kernelspec": {
   "display_name": "prf_env",
   "language": "python",
   "name": "prf_env"
  },
  "language_info": {
   "codemirror_mode": {
    "name": "ipython",
    "version": 3
   },
   "file_extension": ".py",
   "mimetype": "text/x-python",
   "name": "python",
   "nbconvert_exporter": "python",
   "pygments_lexer": "ipython3",
   "version": "3.11.7"
  }
 },
 "nbformat": 4,
 "nbformat_minor": 5
}
